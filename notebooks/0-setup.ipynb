{
 "cells": [
  {
   "cell_type": "markdown",
   "id": "65bf851a",
   "metadata": {},
   "source": [
    "# Installation of Prerequisites"
   ]
  },
  {
   "cell_type": "code",
   "execution_count": 1,
   "id": "4616b907",
   "metadata": {
    "scrolled": true
   },
   "outputs": [
    {
     "name": "stdout",
     "output_type": "stream",
     "text": [
      "--2023-07-07 00:30:51--  https://nlp.stanford.edu/software/stanford-corenlp-4.5.4.zip\n",
      "Resolving nlp.stanford.edu (nlp.stanford.edu)... 171.64.67.140\n",
      "Connecting to nlp.stanford.edu (nlp.stanford.edu)|171.64.67.140|:443... connected.\n",
      "HTTP request sent, awaiting response... 302 FOUND\n",
      "Location: https://downloads.cs.stanford.edu/nlp/software/stanford-corenlp-4.5.4.zip [following]\n",
      "--2023-07-07 00:30:52--  https://downloads.cs.stanford.edu/nlp/software/stanford-corenlp-4.5.4.zip\n",
      "Resolving downloads.cs.stanford.edu (downloads.cs.stanford.edu)... 171.64.64.22\n",
      "Connecting to downloads.cs.stanford.edu (downloads.cs.stanford.edu)|171.64.64.22|:443... connected.\n",
      "HTTP request sent, awaiting response... 200 OK\n",
      "Length: 506470124 (483M) [application/zip]\n",
      "Saving to: ‘stanford-corenlp-4.5.4.zip’\n",
      "\n",
      "orenlp-4.5.4.zip     18%[==>                 ]  88.40M  5.08MB/s    eta 60s    ^C\n",
      "Archive:  stanford-corenlp-4.5.4.zip\n",
      "  End-of-central-directory signature not found.  Either this file is not\n",
      "  a zipfile, or it constitutes one disk of a multi-part archive.  In the\n",
      "  latter case the central directory and zipfile comment will be found on\n",
      "  the last disk(s) of this archive.\n",
      "unzip:  cannot find zipfile directory in one of stanford-corenlp-4.5.4.zip or\n",
      "        stanford-corenlp-4.5.4.zip.zip, and cannot find stanford-corenlp-4.5.4.zip.ZIP, period.\n"
     ]
    }
   ],
   "source": [
    "!wget https://nlp.stanford.edu/software/stanford-corenlp-4.5.4.zip\n",
    "!unzip stanford-corenlp-4.5.4.zip"
   ]
  },
  {
   "cell_type": "code",
   "execution_count": 2,
   "id": "956dcdf1",
   "metadata": {
    "scrolled": true
   },
   "outputs": [
    {
     "name": "stdout",
     "output_type": "stream",
     "text": [
      "Collecting stanza\n",
      "  Downloading stanza-1.5.0-py3-none-any.whl (802 kB)\n",
      "\u001b[2K     \u001b[90m━━━━━━━━━━━━━━━━━━━━━━━━━━━━━━━━━━━━━━━\u001b[0m \u001b[32m802.5/802.5 kB\u001b[0m \u001b[31m4.7 MB/s\u001b[0m eta \u001b[36m0:00:00\u001b[0m00:01\u001b[0m00:01\u001b[0m\n",
      "\u001b[?25hCollecting emoji (from stanza)\n",
      "  Downloading emoji-2.6.0.tar.gz (356 kB)\n",
      "\u001b[2K     \u001b[90m━━━━━━━━━━━━━━━━━━━━━━━━━━━━━━━━━━━━━━━\u001b[0m \u001b[32m356.6/356.6 kB\u001b[0m \u001b[31m4.9 MB/s\u001b[0m eta \u001b[36m0:00:00\u001b[0m00:01\u001b[0m00:01\u001b[0m\n",
      "\u001b[?25h  Preparing metadata (setup.py) ... \u001b[?25ldone\n",
      "\u001b[?25hRequirement already satisfied: numpy in /home/ralph/miniconda3/envs/daam/lib/python3.8/site-packages (from stanza) (1.24.3)\n",
      "Collecting protobuf (from stanza)\n",
      "  Downloading protobuf-4.23.4-cp37-abi3-manylinux2014_x86_64.whl (304 kB)\n",
      "\u001b[2K     \u001b[90m━━━━━━━━━━━━━━━━━━━━━━━━━━━━━━━━━━━━━━━\u001b[0m \u001b[32m304.5/304.5 kB\u001b[0m \u001b[31m4.2 MB/s\u001b[0m eta \u001b[36m0:00:00\u001b[0m00:01\u001b[0m00:01\u001b[0m\n",
      "\u001b[?25hRequirement already satisfied: requests in /home/ralph/miniconda3/envs/daam/lib/python3.8/site-packages (from stanza) (2.29.0)\n",
      "Requirement already satisfied: six in /home/ralph/miniconda3/envs/daam/lib/python3.8/site-packages (from stanza) (1.16.0)\n",
      "Requirement already satisfied: torch>=1.3.0 in /home/ralph/miniconda3/envs/daam/lib/python3.8/site-packages (from stanza) (2.0.1)\n",
      "Requirement already satisfied: tqdm in /home/ralph/miniconda3/envs/daam/lib/python3.8/site-packages (from stanza) (4.65.0)\n",
      "Requirement already satisfied: filelock in /home/ralph/miniconda3/envs/daam/lib/python3.8/site-packages (from torch>=1.3.0->stanza) (3.9.0)\n",
      "Requirement already satisfied: typing-extensions in /home/ralph/miniconda3/envs/daam/lib/python3.8/site-packages (from torch>=1.3.0->stanza) (4.6.3)\n",
      "Requirement already satisfied: sympy in /home/ralph/miniconda3/envs/daam/lib/python3.8/site-packages (from torch>=1.3.0->stanza) (1.11.1)\n",
      "Requirement already satisfied: networkx in /home/ralph/miniconda3/envs/daam/lib/python3.8/site-packages (from torch>=1.3.0->stanza) (2.8.4)\n",
      "Requirement already satisfied: jinja2 in /home/ralph/miniconda3/envs/daam/lib/python3.8/site-packages (from torch>=1.3.0->stanza) (3.1.2)\n",
      "Requirement already satisfied: charset-normalizer<4,>=2 in /home/ralph/miniconda3/envs/daam/lib/python3.8/site-packages (from requests->stanza) (2.0.4)\n",
      "Requirement already satisfied: idna<4,>=2.5 in /home/ralph/miniconda3/envs/daam/lib/python3.8/site-packages (from requests->stanza) (3.4)\n",
      "Requirement already satisfied: urllib3<1.27,>=1.21.1 in /home/ralph/miniconda3/envs/daam/lib/python3.8/site-packages (from requests->stanza) (1.26.16)\n",
      "Requirement already satisfied: certifi>=2017.4.17 in /home/ralph/miniconda3/envs/daam/lib/python3.8/site-packages (from requests->stanza) (2023.5.7)\n",
      "Requirement already satisfied: MarkupSafe>=2.0 in /home/ralph/miniconda3/envs/daam/lib/python3.8/site-packages (from jinja2->torch>=1.3.0->stanza) (2.1.1)\n",
      "Requirement already satisfied: mpmath>=0.19 in /home/ralph/miniconda3/envs/daam/lib/python3.8/site-packages (from sympy->torch>=1.3.0->stanza) (1.2.1)\n",
      "Building wheels for collected packages: emoji\n",
      "  Building wheel for emoji (setup.py) ... \u001b[?25ldone\n",
      "\u001b[?25h  Created wheel for emoji: filename=emoji-2.6.0-py2.py3-none-any.whl size=351312 sha256=438edf73fbaa4e062879aa454062e0f1172c51d84c7df39f189be5af4a37dd92\n",
      "  Stored in directory: /home/ralph/.cache/pip/wheels/65/d8/90/e78a11fccc67c1983e5496ee1b6c831bce3185ed9dec4cd2c2\n",
      "Successfully built emoji\n",
      "Installing collected packages: protobuf, emoji, stanza\n",
      "Successfully installed emoji-2.6.0 protobuf-4.23.4 stanza-1.5.0\n"
     ]
    }
   ],
   "source": [
    "!pip install stanza"
   ]
  },
  {
   "cell_type": "code",
   "execution_count": 3,
   "id": "8bf1406f",
   "metadata": {},
   "outputs": [
    {
     "name": "stderr",
     "output_type": "stream",
     "text": [
      "2023-07-07 00:32:22 WARNING: Directory stanford-corenlp-4.5.4 already exists. Please install CoreNLP to a new directory.\n"
     ]
    }
   ],
   "source": [
    "import stanza\n",
    "stanza.install_corenlp(dir='stanford-corenlp-4.5.4')"
   ]
  },
  {
   "cell_type": "code",
   "execution_count": null,
   "id": "321801f0",
   "metadata": {},
   "outputs": [],
   "source": [
    "!pip install daam==0.1.0"
   ]
  },
  {
   "cell_type": "code",
   "execution_count": 4,
   "id": "ec55a0b3",
   "metadata": {},
   "outputs": [
    {
     "name": "stdout",
     "output_type": "stream",
     "text": [
      "--2023-07-07 00:33:02--  http://images.cocodataset.org/annotations/annotations_trainval2014.zip\n",
      "Resolving images.cocodataset.org (images.cocodataset.org)... 16.182.64.121, 52.216.220.249, 54.231.170.209, ...\n",
      "Connecting to images.cocodataset.org (images.cocodataset.org)|16.182.64.121|:80... connected.\n",
      "HTTP request sent, awaiting response... 200 OK\n",
      "Length: 252872794 (241M) [application/zip]\n",
      "Saving to: ‘annotations_trainval2014.zip’\n",
      "\n",
      "annotations_trainva 100%[===================>] 241.16M  34.5MB/s    in 9.6s    \n",
      "\n",
      "2023-07-07 00:33:12 (25.1 MB/s) - ‘annotations_trainval2014.zip’ saved [252872794/252872794]\n",
      "\n"
     ]
    }
   ],
   "source": [
    "!wget http://images.cocodataset.org/annotations/annotations_trainval2014.zip"
   ]
  },
  {
   "cell_type": "code",
   "execution_count": 5,
   "id": "1ed5edd7",
   "metadata": {},
   "outputs": [],
   "source": [
    "!mkdir -p coco\n",
    "!mv annotations_* coco"
   ]
  },
  {
   "cell_type": "code",
   "execution_count": 9,
   "id": "2f6ed111",
   "metadata": {},
   "outputs": [
    {
     "name": "stdout",
     "output_type": "stream",
     "text": [
      "[Errno 2] No such file or directory: 'coco'\n",
      "/home/ralph/programming/daam/notebooks/coco\n",
      "Archive:  annotations_trainval2014.zip\n",
      "  inflating: annotations/instances_train2014.json  \n",
      "  inflating: annotations/instances_val2014.json  \n",
      "  inflating: annotations/person_keypoints_train2014.json  \n",
      "  inflating: annotations/person_keypoints_val2014.json  \n",
      "  inflating: annotations/captions_train2014.json  \n",
      "  inflating: annotations/captions_val2014.json  \n"
     ]
    }
   ],
   "source": [
    "%cd coco\n",
    "!unzip annotations_*"
   ]
  }
 ],
 "metadata": {
  "kernelspec": {
   "display_name": "Python 3 (ipykernel)",
   "language": "python",
   "name": "python3"
  },
  "language_info": {
   "codemirror_mode": {
    "name": "ipython",
    "version": 3
   },
   "file_extension": ".py",
   "mimetype": "text/x-python",
   "name": "python",
   "nbconvert_exporter": "python",
   "pygments_lexer": "ipython3",
   "version": "3.8.17"
  }
 },
 "nbformat": 4,
 "nbformat_minor": 5
}
