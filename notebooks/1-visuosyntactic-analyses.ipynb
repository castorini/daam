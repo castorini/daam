{
 "cells": [
  {
   "cell_type": "markdown",
   "metadata": {
    "collapsed": true
   },
   "source": [
    "# Visuosyntactic Analyses"
   ]
  },
  {
   "cell_type": "code",
   "execution_count": 1,
   "metadata": {},
   "outputs": [
    {
     "name": "stdout",
     "output_type": "stream",
     "text": [
      "env: CORENLP_HOME=stanford-corenlp-4.5.4\n"
     ]
    }
   ],
   "source": [
    "%env CORENLP_HOME=stanford-corenlp-4.5.4"
   ]
  },
  {
   "cell_type": "code",
   "execution_count": 2,
   "metadata": {},
   "outputs": [
    {
     "name": "stderr",
     "output_type": "stream",
     "text": [
      "2023-07-07 00:32:43 WARNING: Directory stanford-corenlp-4.5.4 already exists. Please install CoreNLP to a new directory.\n",
      "2023-07-07 00:32:43 INFO: Writing properties to tmp file: corenlp_server-8e8c4b3e34ad4e6a.props\n"
     ]
    }
   ],
   "source": [
    "from stanza.server import CoreNLPClient\n",
    "import stanza\n",
    "\n",
    "stanza.install_corenlp(dir='stanford-corenlp-4.5.4')\n",
    "client = CoreNLPClient(annotators=['tokenize', 'ssplit', 'pos', 'lemma', 'ner', 'parse', 'depparse','coref'], timeout=30000, memory='6G')"
   ]
  },
  {
   "cell_type": "markdown",
   "metadata": {},
   "source": [
    "# Generate DAAM Maps"
   ]
  },
  {
   "cell_type": "code",
   "execution_count": 7,
   "metadata": {},
   "outputs": [],
   "source": [
    "from pathlib import Path\n",
    "import json\n",
    "\n",
    "annotations = json.load(Path('coco/annotations/captions_val2014.json').open())"
   ]
  },
  {
   "cell_type": "code",
   "execution_count": 11,
   "metadata": {},
   "outputs": [
    {
     "data": {
      "text/plain": [
       "dict_keys(['info', 'images', 'licenses', 'annotations'])"
      ]
     },
     "execution_count": 11,
     "metadata": {},
     "output_type": "execute_result"
    }
   ],
   "source": [
    "annotations.keys()"
   ]
  },
  {
   "cell_type": "code",
   "execution_count": 13,
   "metadata": {},
   "outputs": [],
   "source": [
    "import pandas as pd\n",
    "\n",
    "df = pd.DataFrame(annotations['annotations'])"
   ]
  },
  {
   "cell_type": "code",
   "execution_count": 15,
   "metadata": {},
   "outputs": [],
   "source": [
    "!mkdir -p experiments/visuosyntax"
   ]
  },
  {
   "cell_type": "code",
   "execution_count": 17,
   "metadata": {},
   "outputs": [],
   "source": [
    "df = df.sample(1500, replace=False)"
   ]
  },
  {
   "cell_type": "code",
   "execution_count": 22,
   "metadata": {},
   "outputs": [],
   "source": [
    "import torch\n",
    "\n",
    "torch.cuda.amp.autocast().__enter__()\n",
    "torch.set_grad_enabled(False);"
   ]
  },
  {
   "cell_type": "code",
   "execution_count": null,
   "metadata": {},
   "outputs": [],
   "source": [
    "from diffusers import StableDiffusionPipeline\n",
    "from daam import set_seed, trace\n",
    "\n",
    "pipe = StableDiffusionPipeline.from_pretrained('stabilityai/stable-diffusion-2-1-base')"
   ]
  },
  {
   "cell_type": "code",
   "execution_count": 37,
   "metadata": {},
   "outputs": [],
   "source": [
    "pipe.to('cuda:0');"
   ]
  },
  {
   "cell_type": "code",
   "execution_count": null,
   "metadata": {
    "scrolled": true
   },
   "outputs": [],
   "source": [
    "from tqdm import tqdm\n",
    "\n",
    "for _, row in tqdm(df.iterrows(), total=len(df)):\n",
    "    image_id, caption = row.image_id, row.caption\n",
    "    gen = set_seed(image_id)\n",
    "    output_folder = Path('experiments/visuosyntax')\n",
    "    \n",
    "    with trace(pipe) as tc:\n",
    "        out = pipe(caption, num_inference_steps=30, generator=gen)\n",
    "        exp = tc.to_experiment(output_folder, id=str(image_id), seed=image_id)\n",
    "        exp.save(output_folder, heat_maps=False)"
   ]
  },
  {
   "cell_type": "markdown",
   "metadata": {},
   "source": [
    "# Parse and Analyze"
   ]
  },
  {
   "cell_type": "code",
   "execution_count": null,
   "metadata": {},
   "outputs": [],
   "source": [
    "from matplotlib import pyplot as plt\n",
    "from daam import GenerationExperiment\n",
    "\n",
    "def iou(a, b, t: float = 0.15) -> float:\n",
    "    i = ((a > t) & (b > t)).float().sum()\n",
    "    u = ((a > t) | (b > t)).float().sum()\n",
    "    \n",
    "    if u < 1e-6:\n",
    "        return 0.0\n",
    "    else:\n",
    "        return (i / u).item()\n",
    "\n",
    "def ioa(a, b, t: float = 0.15) -> float:\n",
    "    i = ((a > t) & (b > t)).float().sum()\n",
    "    a = (a > t).float().sum()\n",
    "    \n",
    "    if a < 1e-6:\n",
    "        return 0.0\n",
    "    else:\n",
    "        return (i / a).item()\n",
    "\n",
    "stats = []\n",
    "\n",
    "for path in tqdm(list(Path('experiments/visuosyntax').iterdir())):\n",
    "    exp = GenerationExperiment.load(path)\n",
    "    sent = client.annotate(exp.prompt).sentence[0]\n",
    "    heat_map = exp.heat_map()    \n",
    "    word_maps = dict()\n",
    "    \n",
    "    for tok in sent.token:\n",
    "        try:\n",
    "            word_maps[tok.word] = heat_map.compute_word_heat_map(tok.word).value.cuda()\n",
    "        except ValueError:\n",
    "            pass        \n",
    "    \n",
    "    for edge in sent.enhancedDependencies.edge:\n",
    "        head = sent.token[edge.source - 1].word\n",
    "        rel = edge.dep\n",
    "        dep = sent.token[edge.target - 1].word\n",
    "        \n",
    "        try:\n",
    "            head_heat_map = word_maps[head]\n",
    "            dep_heat_map = word_maps[dep]\n",
    "        except KeyError:\n",
    "            continue\n",
    "        \n",
    "        stats.append(dict(\n",
    "            rel=rel,\n",
    "            iou=iou(head_heat_map, dep_heat_map),\n",
    "            iod=ioa(dep_heat_map, head_heat_map),\n",
    "            ioh=ioa(head_heat_map, dep_heat_map)\n",
    "        ))"
   ]
  },
  {
   "cell_type": "markdown",
   "metadata": {},
   "source": [
    "# Results"
   ]
  },
  {
   "cell_type": "code",
   "execution_count": 149,
   "metadata": {},
   "outputs": [],
   "source": [
    "stats_df = pd.DataFrame(stats)\n",
    "res_df = stats_df.groupby('rel').agg(count=('rel', len), mIoU=('iou', 'mean'), mIoD=('iod', 'mean'), mIoH=('ioh', 'mean'))\n",
    "res_df = res_df.sort_values('count', ascending=False).iloc[:10]\n",
    "res_df['delta'] = (res_df['mIoH'] - res_df['mIoD']).abs()"
   ]
  },
  {
   "cell_type": "code",
   "execution_count": 150,
   "metadata": {},
   "outputs": [
    {
     "data": {
      "text/html": [
       "<div>\n",
       "<style scoped>\n",
       "    .dataframe tbody tr th:only-of-type {\n",
       "        vertical-align: middle;\n",
       "    }\n",
       "\n",
       "    .dataframe tbody tr th {\n",
       "        vertical-align: top;\n",
       "    }\n",
       "\n",
       "    .dataframe thead th {\n",
       "        text-align: right;\n",
       "    }\n",
       "</style>\n",
       "<table border=\"1\" class=\"dataframe\">\n",
       "  <thead>\n",
       "    <tr style=\"text-align: right;\">\n",
       "      <th></th>\n",
       "      <th>mIoU</th>\n",
       "      <th>mIoD</th>\n",
       "      <th>mIoH</th>\n",
       "      <th>delta</th>\n",
       "    </tr>\n",
       "    <tr>\n",
       "      <th>rel</th>\n",
       "      <th></th>\n",
       "      <th></th>\n",
       "      <th></th>\n",
       "      <th></th>\n",
       "    </tr>\n",
       "  </thead>\n",
       "  <tbody>\n",
       "    <tr>\n",
       "      <th>punct</th>\n",
       "      <td>0.099857</td>\n",
       "      <td>2.448410</td>\n",
       "      <td>0.103295</td>\n",
       "      <td>2.345114</td>\n",
       "    </tr>\n",
       "    <tr>\n",
       "      <th>nmod:of</th>\n",
       "      <td>8.657074</td>\n",
       "      <td>12.855358</td>\n",
       "      <td>21.987856</td>\n",
       "      <td>9.132498</td>\n",
       "    </tr>\n",
       "    <tr>\n",
       "      <th>compound</th>\n",
       "      <td>33.434113</td>\n",
       "      <td>59.130795</td>\n",
       "      <td>49.985170</td>\n",
       "      <td>9.145626</td>\n",
       "    </tr>\n",
       "    <tr>\n",
       "      <th>nsubj</th>\n",
       "      <td>5.027227</td>\n",
       "      <td>10.692133</td>\n",
       "      <td>22.710293</td>\n",
       "      <td>12.018160</td>\n",
       "    </tr>\n",
       "    <tr>\n",
       "      <th>case</th>\n",
       "      <td>3.831952</td>\n",
       "      <td>18.088006</td>\n",
       "      <td>5.895829</td>\n",
       "      <td>12.192177</td>\n",
       "    </tr>\n",
       "    <tr>\n",
       "      <th>det</th>\n",
       "      <td>0.447811</td>\n",
       "      <td>13.012975</td>\n",
       "      <td>0.657808</td>\n",
       "      <td>12.355168</td>\n",
       "    </tr>\n",
       "    <tr>\n",
       "      <th>conj:and</th>\n",
       "      <td>28.435928</td>\n",
       "      <td>55.501867</td>\n",
       "      <td>39.649883</td>\n",
       "      <td>15.851984</td>\n",
       "    </tr>\n",
       "    <tr>\n",
       "      <th>acl</th>\n",
       "      <td>6.452009</td>\n",
       "      <td>28.692415</td>\n",
       "      <td>11.101184</td>\n",
       "      <td>17.591231</td>\n",
       "    </tr>\n",
       "    <tr>\n",
       "      <th>obj</th>\n",
       "      <td>6.641952</td>\n",
       "      <td>10.566673</td>\n",
       "      <td>36.442496</td>\n",
       "      <td>25.875823</td>\n",
       "    </tr>\n",
       "    <tr>\n",
       "      <th>amod</th>\n",
       "      <td>14.690878</td>\n",
       "      <td>45.062720</td>\n",
       "      <td>19.051720</td>\n",
       "      <td>26.011000</td>\n",
       "    </tr>\n",
       "  </tbody>\n",
       "</table>\n",
       "</div>"
      ],
      "text/plain": [
       "               mIoU       mIoD       mIoH      delta\n",
       "rel                                                 \n",
       "punct      0.099857   2.448410   0.103295   2.345114\n",
       "nmod:of    8.657074  12.855358  21.987856   9.132498\n",
       "compound  33.434113  59.130795  49.985170   9.145626\n",
       "nsubj      5.027227  10.692133  22.710293  12.018160\n",
       "case       3.831952  18.088006   5.895829  12.192177\n",
       "det        0.447811  13.012975   0.657808  12.355168\n",
       "conj:and  28.435928  55.501867  39.649883  15.851984\n",
       "acl        6.452009  28.692415  11.101184  17.591231\n",
       "obj        6.641952  10.566673  36.442496  25.875823\n",
       "amod      14.690878  45.062720  19.051720  26.011000"
      ]
     },
     "execution_count": 150,
     "metadata": {},
     "output_type": "execute_result"
    }
   ],
   "source": [
    "res_df.drop(columns=['count'], inplace=True)\n",
    "res_df = res_df.transform(lambda x: x * 100)\n",
    "res_df.sort_values('delta')"
   ]
  }
 ],
 "metadata": {
  "kernelspec": {
   "display_name": "Python 3 (ipykernel)",
   "language": "python",
   "name": "python3"
  },
  "language_info": {
   "codemirror_mode": {
    "name": "ipython",
    "version": 3
   },
   "file_extension": ".py",
   "mimetype": "text/x-python",
   "name": "python",
   "nbconvert_exporter": "python",
   "pygments_lexer": "ipython3",
   "version": "3.8.17"
  }
 },
 "nbformat": 4,
 "nbformat_minor": 1
}
